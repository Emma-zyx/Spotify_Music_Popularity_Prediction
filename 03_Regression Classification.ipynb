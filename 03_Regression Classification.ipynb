{
 "cells": [
  {
   "cell_type": "markdown",
   "metadata": {},
   "source": [
    "# Machine Learning"
   ]
  },
  {
   "cell_type": "markdown",
   "metadata": {},
   "source": [
    "## Linear Regression"
   ]
  },
  {
   "cell_type": "code",
   "execution_count": 14,
   "metadata": {},
   "outputs": [],
   "source": [
    "import numpy as np\n",
    "import pandas as pd\n",
    "import matplotlib.pyplot as plt\n",
    "from pandas import DataFrame\n",
    "%matplotlib inline\n",
    "from sklearn.model_selection import train_test_split\n",
    "from sklearn import linear_model \n",
    "from sklearn.metrics import confusion_matrix,mean_squared_error\n",
    "from sklearn.preprocessing import StandardScaler"
   ]
  },
  {
   "cell_type": "code",
   "execution_count": 15,
   "metadata": {},
   "outputs": [
    {
     "data": {
      "text/plain": [
       "Index(['Unnamed: 0', 'id', 'artists', 'year', 'release_date', 'duration_ms',\n",
       "       'key', 'mode', 'tempo', 'acousticness', 'danceability', 'energy',\n",
       "       'instrumentalness', 'liveness', 'loudness', 'speechiness', 'valence',\n",
       "       'name', '#vocab', 'avg_word_len', 'uniqueness', 'language', 'comm',\n",
       "       'emotion', 'negative', 'anticipation', 'anger', 'disgust', 'fear',\n",
       "       'joy', 'positive', 'sadness', 'surprise', 'trust', 'popularity'],\n",
       "      dtype='object')"
      ]
     },
     "execution_count": 15,
     "metadata": {},
     "output_type": "execute_result"
    }
   ],
   "source": [
    "songs = pd.read_csv('data_updated.csv')\n",
    "songs.columns"
   ]
  },
  {
   "cell_type": "code",
   "execution_count": 16,
   "metadata": {},
   "outputs": [],
   "source": [
    "del songs['Unnamed: 0']\n",
    "del songs['id']\n",
    "del songs['release_date']\n",
    "del songs['artists']\n",
    "del songs['name']\n",
    "del songs['emotion']\n",
    "songs['language'] = np.where(songs['language']=='English',1,0)\n",
    "songs['duration_ms'] = songs['duration_ms']/60000\n",
    "songs['popularity'] = np.where(songs['popularity']>=33, 1, 0)"
   ]
  },
  {
   "cell_type": "code",
   "execution_count": 17,
   "metadata": {},
   "outputs": [
    {
     "data": {
      "image/png": "[encoded data removed]",
      "text/plain": [
       "<Figure size 432x288 with 1 Axes>"
      ]
     },
     "metadata": {
      "needs_background": "light"
     },
     "output_type": "display_data"
    }
   ],
   "source": [
    "plt.pcolor(songs.corr(), cmap='coolwarm')\n",
    "plt.show()"
   ]
  },
  {
   "cell_type": "code",
   "execution_count": 18,
   "metadata": {},
   "outputs": [
    {
     "name": "stdout",
     "output_type": "stream",
     "text": [
      "                            OLS Regression Results                            \n",
      "==============================================================================\n",
      "Dep. Variable:             popularity   R-squared:                       0.571\n",
      "Model:                            OLS   Adj. R-squared:                  0.571\n",
      "Method:                 Least Squares   F-statistic:                     8124.\n",
      "Date:                Sun, 20 Dec 2020   Prob (F-statistic):               0.00\n",
      "Time:                        17:42:25   Log-Likelihood:                -51490.\n",
      "No. Observations:              170653   AIC:                         1.030e+05\n",
      "Df Residuals:                  170624   BIC:                         1.033e+05\n",
      "Df Model:                          28                                         \n",
      "Covariance Type:            nonrobust                                         \n",
      "====================================================================================\n",
      "                       coef    std err          t      P>|t|      [0.025      0.975]\n",
      "------------------------------------------------------------------------------------\n",
      "const              -26.4011      0.089   -297.251      0.000     -26.575     -26.227\n",
      "year                 0.0137   4.41e-05    309.729      0.000       0.014       0.014\n",
      "duration_ms          0.0031      0.000      7.907      0.000       0.002       0.004\n",
      "key                  0.0006      0.000      2.772      0.006       0.000       0.001\n",
      "mode                -0.0008      0.002     -0.469      0.639      -0.004       0.003\n",
      "tempo            -8.125e-05   2.72e-05     -2.989      0.003      -0.000    -2.8e-05\n",
      "acousticness        -0.0841      0.004    -22.871      0.000      -0.091      -0.077\n",
      "danceability         0.0167      0.006      2.656      0.008       0.004       0.029\n",
      "energy              -0.0310      0.007     -4.708      0.000      -0.044      -0.018\n",
      "instrumentalness    -0.0321      0.003    -10.848      0.000      -0.038      -0.026\n",
      "liveness            -0.0928      0.005    -19.453      0.000      -0.102      -0.083\n",
      "loudness             0.0016      0.000      6.570      0.000       0.001       0.002\n",
      "speechiness         -0.0229      0.006     -4.004      0.000      -0.034      -0.012\n",
      "valence              0.0197      0.004      4.592      0.000       0.011       0.028\n",
      "#vocab              -0.0026      0.000     -6.930      0.000      -0.003      -0.002\n",
      "avg_word_len         0.0022      0.001      4.385      0.000       0.001       0.003\n",
      "uniqueness           0.0231      0.012      1.885      0.059      -0.001       0.047\n",
      "language            -0.0438      0.002    -20.449      0.000      -0.048      -0.040\n",
      "comm                 0.0002      0.001      0.188      0.851      -0.002       0.002\n",
      "negative            -0.0197      0.008     -2.389      0.017      -0.036      -0.004\n",
      "anticipation        -0.0344      0.009     -3.943      0.000      -0.051      -0.017\n",
      "anger                0.0169      0.011      1.545      0.122      -0.005       0.038\n",
      "disgust             -0.0138      0.012     -1.191      0.234      -0.037       0.009\n",
      "fear                -0.0059      0.009     -0.620      0.535      -0.024       0.013\n",
      "joy                  0.0102      0.011      0.960      0.337      -0.011       0.031\n",
      "positive             0.0069      0.008      0.864      0.388      -0.009       0.023\n",
      "sadness              0.0202      0.009      2.186      0.029       0.002       0.038\n",
      "surprise            -0.0244      0.011     -2.273      0.023      -0.045      -0.003\n",
      "trust               -0.0025      0.009     -0.280      0.780      -0.020       0.015\n",
      "==============================================================================\n",
      "Omnibus:                     1166.621   Durbin-Watson:                   0.753\n",
      "Prob(Omnibus):                  0.000   Jarque-Bera (JB):             1240.839\n",
      "Skew:                          -0.179   Prob(JB):                    3.59e-270\n",
      "Kurtosis:                       3.216   Cond. No.                     2.22e+05\n",
      "==============================================================================\n",
      "\n",
      "Warnings:\n",
      "[1] Standard Errors assume that the covariance matrix of the errors is correctly specified.\n",
      "[2] The condition number is large, 2.22e+05. This might indicate that there are\n",
      "strong multicollinearity or other numerical problems.\n"
     ]
    }
   ],
   "source": [
    "import numpy as np\n",
    "import statsmodels.api as sm\n",
    "X = songs.iloc[0:,0:28]\n",
    "X = sm.add_constant(X)\n",
    "y = songs['popularity']\n",
    "model = sm.OLS(y,X,missing='drop')\n",
    "result = model.fit()\n",
    "print(result.summary())"
   ]
  },
  {
   "cell_type": "markdown",
   "metadata": {},
   "source": [
    "### Binary classification: high popularity vs low popularity"
   ]
  },
  {
   "cell_type": "code",
   "execution_count": 19,
   "metadata": {},
   "outputs": [],
   "source": [
    "def get_classification(predictions, threshod):\n",
    "    classes = np.zeros_like(predictions)\n",
    "    for i in range(len(classes)):\n",
    "        if predictions[i] < threshod:\n",
    "            classes[i] = 0\n",
    "        else:\n",
    "            classes[i] = 1\n",
    "    return classes\n",
    "\n",
    "def c_m_analysis(true, pred, threshold):\n",
    "    tn, fp, fn, tp = confusion_matrix(true, get_classification(pred, threshold)).ravel()\n",
    "    accuracy = (tp+tn)/(tp+tn+fp+fn)\n",
    "    print('Accuracy: ', accuracy)"
   ]
  },
  {
   "cell_type": "code",
   "execution_count": 20,
   "metadata": {},
   "outputs": [
    {
     "name": "stdout",
     "output_type": "stream",
     "text": [
      "Feature set 1: All variables \n",
      "Training R-Square:  0.5695209479307829\n",
      "Testing R-Square:  0.575683386554231\n",
      "Accuracy:  0.8544222204859755\n",
      "None\n",
      "RMSE:  0.3254577108823647\n",
      "\n",
      "\n",
      "Feature set 2: facts + text mining\n",
      "Training R-Square:  0.5649964519339209\n",
      "Testing R-Square:  0.5714816477186171\n",
      "Accuracy:  0.8522540823501836\n",
      "None\n",
      "RMSE:  0.3270651421914429\n",
      "\n",
      "\n",
      "Feature set 3: only facts\n",
      "Training R-Square:  0.5626477352337129\n",
      "Testing R-Square:  0.569357026311765\n",
      "Accuracy:  0.8511602468942886\n",
      "None\n",
      "RMSE:  0.32787494461965394\n",
      "Linear_acc:  0.569357026311765\n"
     ]
    }
   ],
   "source": [
    "train, test = train_test_split(songs, test_size = 0.3, random_state=0) \n",
    "model = linear_model.LinearRegression()\n",
    "\n",
    "# all variables\n",
    "x_train_1 = train.iloc[0:,0:28]\n",
    "y_train = train['popularity']\n",
    "x_test_1 = test.iloc[0:,0:28]\n",
    "y_test = test['popularity']\n",
    "\n",
    "model.fit(x_train_1, y_train)\n",
    "print('Feature set 1: All variables ')\n",
    "print(\"Training R-Square: \", model.score(x_train_1,y_train))\n",
    "print(\"Testing R-Square: \", model.score(x_test_1,y_test))\n",
    "\n",
    "testing_predictions_1  = model.predict(x_test_1)\n",
    "\n",
    "print(c_m_analysis(y_test, testing_predictions_1, 0.5))\n",
    "print('RMSE: ',mean_squared_error(y_test, testing_predictions_1, squared=False))\n",
    "print();print()\n",
    "\n",
    "# facts + text mining\n",
    "x_train_2 = train[['year','duration_ms','key','mode','tempo','#vocab','avg_word_len','uniqueness','language','comm','negative','anticipation','anger','disgust','fear','joy','positive','sadness','surprise','trust']]\n",
    "x_test_2 = test[['year','duration_ms','key','mode','tempo','#vocab','avg_word_len','uniqueness','language','comm','negative','anticipation','anger','disgust','fear','joy','positive','sadness','surprise','trust']]\n",
    "model.fit(x_train_2, y_train)\n",
    "\n",
    "print('Feature set 2: facts + text mining')\n",
    "print(\"Training R-Square: \", model.score(x_train_2,y_train))\n",
    "print(\"Testing R-Square: \", model.score(x_test_2,y_test))\n",
    "\n",
    "testing_predictions_2 = model.predict(x_test_2)\n",
    "\n",
    "print(c_m_analysis(y_test, testing_predictions_2, 0.5))\n",
    "print('RMSE: ',mean_squared_error(y_test, testing_predictions_2, squared=False))\n",
    "print();print()\n",
    "\n",
    "# only facts\n",
    "x_train_3 = train[['year','duration_ms','key','mode','tempo']]\n",
    "x_test_3 = test[['year','duration_ms','key', 'mode','tempo']]\n",
    "\n",
    "model.fit(x_train_3, y_train)\n",
    "print('Feature set 3: only facts')\n",
    "print(\"Training R-Square: \", model.score(x_train_3,y_train))\n",
    "print(\"Testing R-Square: \", model.score(x_test_3,y_test))\n",
    "\n",
    "testing_predictions_3 = model.predict(x_test_3)\n",
    "\n",
    "print(c_m_analysis(y_test, testing_predictions_3, 0.5))\n",
    "print('RMSE: ',mean_squared_error(y_test, testing_predictions_3, squared=False))\n",
    "print('Linear_acc: ', model.score(x_test_3, np.array(y_test)))"
   ]
  },
  {
   "cell_type": "markdown",
   "metadata": {},
   "source": [
    "## Logistic Regression"
   ]
  },
  {
   "cell_type": "code",
   "execution_count": 21,
   "metadata": {},
   "outputs": [],
   "source": [
    "def c_m_analysis(true, pred):\n",
    "    tn, fp, fn, tp = confusion_matrix(true, pred).ravel()\n",
    "    accuracy = (tp+tn)/(tp+tn+fp+fn)\n",
    "    print('Accuracy: ', accuracy)"
   ]
  },
  {
   "cell_type": "code",
   "execution_count": 22,
   "metadata": {},
   "outputs": [
    {
     "name": "stdout",
     "output_type": "stream",
     "text": [
      "Feature set 1: All variables \n",
      "Training R-Square:  0.8501552860024946\n",
      "Testing R-Square (Logistic_acc):  0.8521368856941949\n",
      "RMSE:  0.38452973136781654\n",
      "Accuracy:  0.8521368856941949\n",
      "None\n",
      "\n",
      "\n",
      "Feature set 2: facts + text mining\n",
      "Training R-Square:  0.8477778614899085\n",
      "Testing R-Square (Logistic_acc):  0.8515118368622548\n",
      "RMSE:  0.38534161874594486\n",
      "Accuracy:  0.8515118368622548\n",
      "None\n",
      "\n",
      "\n",
      "Feature set 3: only facts\n",
      "Training R-Square:  0.8461371037277012\n",
      "Testing R-Square (Logistic_acc):  0.8505351980623487\n",
      "RMSE:  0.38660677947709526\n",
      "Accuracy:  0.8505351980623487\n",
      "None\n"
     ]
    }
   ],
   "source": [
    "from sklearn.preprocessing import StandardScaler\n",
    "model = linear_model.LogisticRegression()\n",
    "\n",
    "x = songs.iloc[0:,0:28]\n",
    "y = songs['popularity']\n",
    "\n",
    "x_train_1, x_test_1, y_train_1, y_test_1 = train_test_split(StandardScaler().fit_transform(x),\n",
    "                                                            y, test_size=0.3, random_state=0)\n",
    "model.fit(x_train_1, y_train_1)\n",
    "print('Feature set 1: All variables ')\n",
    "print(\"Training R-Square: \", model.score(x_train_1,y_train_1))\n",
    "print(\"Testing R-Square (Logistic_acc): \", model.score(x_test_1,y_test_1))\n",
    "\n",
    "testing_predictions_1  = model.predict(x_test_1)\n",
    "\n",
    "print('RMSE: ', mean_squared_error(y_test_1, testing_predictions_1, squared=False))\n",
    "print(c_m_analysis(y_test_1, testing_predictions_1))\n",
    "print();print()\n",
    "\n",
    "# facts + text mining\n",
    "x = songs[['year','duration_ms','key','mode','tempo','#vocab','avg_word_len','uniqueness','language','comm','negative','anticipation','anger','disgust','fear','joy','positive','sadness','surprise','trust']]\n",
    "x_train_2, x_test_2, y_train_2, y_test_2 = train_test_split(StandardScaler().fit_transform(x), \n",
    "                                                            y, test_size=0.3, random_state=0)\n",
    "model.fit(x_train_2, y_train_2)\n",
    "\n",
    "print('Feature set 2: facts + text mining')\n",
    "print(\"Training R-Square: \", model.score(x_train_2,y_train_2))\n",
    "print(\"Testing R-Square (Logistic_acc): \", model.score(x_test_2,y_test_2))\n",
    "\n",
    "testing_predictions_2 = model.predict(x_test_2)\n",
    "\n",
    "print('RMSE: ', mean_squared_error(y_test_2, testing_predictions_2, squared=False))\n",
    "print(c_m_analysis(y_test_2, testing_predictions_2))\n",
    "print();print()\n",
    "\n",
    "# only facts\n",
    "x = songs[['year','duration_ms','key','mode','tempo']]\n",
    "x_train_3, x_test_3, y_train_3, y_test_3 = train_test_split(StandardScaler().fit_transform(x),\n",
    "                                                            y, test_size=0.3, random_state=0)\n",
    "model.fit(x_train_3, y_train_3)\n",
    "print('Feature set 3: only facts')\n",
    "print(\"Training R-Square: \", model.score(x_train_3,y_train_3))\n",
    "print(\"Testing R-Square (Logistic_acc): \", model.score(x_test_3,y_test_3))\n",
    "\n",
    "testing_predictions_3 = model.predict(x_test_3)\n",
    "\n",
    "print('RMSE: ', mean_squared_error(y_test_3, testing_predictions_3, squared=False))\n",
    "print(c_m_analysis(y_test_3, testing_predictions_3))"
   ]
  },
  {
   "cell_type": "markdown",
   "metadata": {},
   "source": [
    "# Numerical"
   ]
  },
  {
   "cell_type": "code",
   "execution_count": 23,
   "metadata": {},
   "outputs": [],
   "source": [
    "songs = pd.read_csv('data_updated.csv')"
   ]
  },
  {
   "cell_type": "code",
   "execution_count": 24,
   "metadata": {},
   "outputs": [],
   "source": [
    "del songs['Unnamed: 0']\n",
    "del songs['id']\n",
    "del songs['release_date']\n",
    "del songs['artists']\n",
    "del songs['name']\n",
    "del songs['emotion']\n",
    "songs['language'] = np.where(songs['language']=='English',1,0)\n",
    "songs['duration_ms'] = songs['duration_ms']/60000"
   ]
  },
  {
   "cell_type": "code",
   "execution_count": 25,
   "metadata": {},
   "outputs": [
    {
     "name": "stdout",
     "output_type": "stream",
     "text": [
      "Feature set 1: All variables \n",
      "Training R-Square 0.7530238616441403\n",
      "Testing R-Square 0.7586898455895417\n",
      "RMSE:  10.727309606132794\n",
      "\n",
      "\n",
      "Feature set 2: facts + text mining\n",
      "Training R-Square 0.7450814987528587\n",
      "Testing R-Square 0.7512838133609335\n",
      "RMSE:  10.890681109112752\n",
      "\n",
      "\n",
      "Feature set 3: only facts\n",
      "Training R-Square 0.7420383286714591\n",
      "Testing R-Square 0.7486239450380239\n",
      "RMSE:  10.948760845056416\n"
     ]
    }
   ],
   "source": [
    "train, test = train_test_split(songs, test_size = 0.3, random_state = 0) \n",
    "\n",
    "# all variables\n",
    "x_train_1 = train.iloc[0:,0:28]\n",
    "y_train = train['popularity']\n",
    "x_test_1 = test.iloc[0:,0:28]\n",
    "y_test = test['popularity']\n",
    "\n",
    "model_1 = linear_model.LinearRegression() \n",
    "model_1.fit(x_train_1, y_train)\n",
    "print('Feature set 1: All variables ')\n",
    "print(\"Training R-Square\", model_1.score(x_train_1,y_train))\n",
    "print(\"Testing R-Square\", model_1.score(x_test_1,y_test))\n",
    "\n",
    "testing_predictions_1  = model_1.predict(x_test_1)\n",
    "\n",
    "print('RMSE: ', mean_squared_error(y_test, testing_predictions_1, squared=False))\n",
    "print();print()\n",
    "\n",
    "# facts + text mining\n",
    "x_train_2 = train[['year', 'duration_ms', 'key', 'mode', 'tempo','#vocab', 'avg_word_len', \n",
    "                 'uniqueness','language', 'comm', 'negative', 'anticipation', 'anger', \n",
    "                 'disgust','fear', 'joy', 'positive', 'sadness', 'surprise', 'trust']]\n",
    "x_test_2 = test[['year', 'duration_ms', 'key', 'mode', 'tempo','#vocab', 'avg_word_len', \n",
    "               'uniqueness','language', 'comm', 'negative', 'anticipation', 'anger', \n",
    "               'disgust','fear', 'joy', 'positive', 'sadness', 'surprise', 'trust']]\n",
    "\n",
    "model_2 = linear_model.LinearRegression() \n",
    "model_2.fit(x_train_2, y_train)\n",
    "\n",
    "print('Feature set 2: facts + text mining')\n",
    "print(\"Training R-Square\", model_2.score(x_train_2,y_train))\n",
    "print(\"Testing R-Square\", model_2.score(x_test_2,y_test))\n",
    "\n",
    "testing_predictions_2 = model_2.predict(x_test_2)\n",
    "\n",
    "print('RMSE: ', mean_squared_error(y_test, testing_predictions_2, squared=False))\n",
    "print();print()\n",
    "\n",
    "# only facts\n",
    "x_train_3 = train[['year', 'duration_ms', 'key', 'mode', 'tempo']]\n",
    "x_test_3 = test[['year', 'duration_ms', 'key', 'mode', 'tempo']]\n",
    "\n",
    "model_3 = linear_model.LinearRegression() \n",
    "model_3.fit(x_train_3, y_train)\n",
    "print('Feature set 3: only facts')\n",
    "print(\"Training R-Square\", model_3.score(x_train_3,y_train))\n",
    "print(\"Testing R-Square\", model_3.score(x_test_3,y_test))\n",
    "\n",
    "testing_predictions_3 = model_3.predict(x_test_3)\n",
    "\n",
    "print('RMSE: ', mean_squared_error(y_test, testing_predictions_3, squared=False))"
   ]
  },
  {
   "cell_type": "code",
   "execution_count": null,
   "metadata": {},
   "outputs": [],
   "source": []
  }
 ],
 "metadata": {
  "kernelspec": {
   "display_name": "Python 3",
   "language": "python",
   "name": "python3"
  },
  "language_info": {
   "codemirror_mode": {
    "name": "ipython",
    "version": 3
   },
   "file_extension": ".py",
   "mimetype": "text/x-python",
   "name": "python",
   "nbconvert_exporter": "python",
   "pygments_lexer": "ipython3",
   "version": "3.8.3"
  }
 },
 "nbformat": 4,
 "nbformat_minor": 4
}
