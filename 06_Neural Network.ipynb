{
 "cells": [
  {
   "cell_type": "code",
   "execution_count": 1,
   "metadata": {},
   "outputs": [],
   "source": [
    "import numpy as np\n",
    "import pandas as pd\n",
    "import matplotlib.pyplot as plt\n",
    "from pandas import DataFrame\n",
    "%matplotlib inline\n",
    "from sklearn.model_selection import train_test_split\n",
    "from sklearn import linear_model \n",
    "from sklearn.metrics import confusion_matrix,r2_score,roc_curve,auc,precision_recall_curve,average_precision_score,mean_squared_error"
   ]
  },
  {
   "cell_type": "code",
   "execution_count": 2,
   "metadata": {},
   "outputs": [],
   "source": [
    "songs = pd.read_csv('data_updated.csv')"
   ]
  },
  {
   "cell_type": "code",
   "execution_count": 3,
   "metadata": {},
   "outputs": [
    {
     "data": {
      "text/html": [
       "<div>\n",
       "<style scoped>\n",
       "    .dataframe tbody tr th:only-of-type {\n",
       "        vertical-align: middle;\n",
       "    }\n",
       "\n",
       "    .dataframe tbody tr th {\n",
       "        vertical-align: top;\n",
       "    }\n",
       "\n",
       "    .dataframe thead th {\n",
       "        text-align: right;\n",
       "    }\n",
       "</style>\n",
       "<table border=\"1\" class=\"dataframe\">\n",
       "  <thead>\n",
       "    <tr style=\"text-align: right;\">\n",
       "      <th></th>\n",
       "      <th>year</th>\n",
       "      <th>duration</th>\n",
       "      <th>key</th>\n",
       "      <th>mode</th>\n",
       "      <th>tempo</th>\n",
       "      <th>acousticness</th>\n",
       "      <th>danceability</th>\n",
       "      <th>energy</th>\n",
       "      <th>instrumentalness</th>\n",
       "      <th>liveness</th>\n",
       "      <th>...</th>\n",
       "      <th>anticipation</th>\n",
       "      <th>anger</th>\n",
       "      <th>disgust</th>\n",
       "      <th>fear</th>\n",
       "      <th>joy</th>\n",
       "      <th>positive</th>\n",
       "      <th>sadness</th>\n",
       "      <th>surprise</th>\n",
       "      <th>trust</th>\n",
       "      <th>popularity</th>\n",
       "    </tr>\n",
       "  </thead>\n",
       "  <tbody>\n",
       "    <tr>\n",
       "      <th>0</th>\n",
       "      <td>1921</td>\n",
       "      <td>13.861117</td>\n",
       "      <td>10</td>\n",
       "      <td>1</td>\n",
       "      <td>80.954</td>\n",
       "      <td>0.98200</td>\n",
       "      <td>0.279</td>\n",
       "      <td>0.211</td>\n",
       "      <td>0.878000</td>\n",
       "      <td>0.6650</td>\n",
       "      <td>...</td>\n",
       "      <td>0.0</td>\n",
       "      <td>0.0</td>\n",
       "      <td>0.0</td>\n",
       "      <td>0.0</td>\n",
       "      <td>0.0</td>\n",
       "      <td>0.0</td>\n",
       "      <td>0.0</td>\n",
       "      <td>0.0</td>\n",
       "      <td>0.0</td>\n",
       "      <td>0</td>\n",
       "    </tr>\n",
       "    <tr>\n",
       "      <th>1</th>\n",
       "      <td>1921</td>\n",
       "      <td>3.008883</td>\n",
       "      <td>7</td>\n",
       "      <td>1</td>\n",
       "      <td>60.936</td>\n",
       "      <td>0.73200</td>\n",
       "      <td>0.819</td>\n",
       "      <td>0.341</td>\n",
       "      <td>0.000000</td>\n",
       "      <td>0.1600</td>\n",
       "      <td>...</td>\n",
       "      <td>0.0</td>\n",
       "      <td>0.0</td>\n",
       "      <td>0.0</td>\n",
       "      <td>0.0</td>\n",
       "      <td>0.0</td>\n",
       "      <td>0.0</td>\n",
       "      <td>0.0</td>\n",
       "      <td>0.0</td>\n",
       "      <td>0.0</td>\n",
       "      <td>0</td>\n",
       "    </tr>\n",
       "    <tr>\n",
       "      <th>2</th>\n",
       "      <td>1921</td>\n",
       "      <td>8.334367</td>\n",
       "      <td>3</td>\n",
       "      <td>1</td>\n",
       "      <td>110.339</td>\n",
       "      <td>0.96100</td>\n",
       "      <td>0.328</td>\n",
       "      <td>0.166</td>\n",
       "      <td>0.913000</td>\n",
       "      <td>0.1010</td>\n",
       "      <td>...</td>\n",
       "      <td>0.0</td>\n",
       "      <td>0.0</td>\n",
       "      <td>0.0</td>\n",
       "      <td>0.0</td>\n",
       "      <td>0.0</td>\n",
       "      <td>0.0</td>\n",
       "      <td>0.0</td>\n",
       "      <td>0.0</td>\n",
       "      <td>0.0</td>\n",
       "      <td>0</td>\n",
       "    </tr>\n",
       "    <tr>\n",
       "      <th>3</th>\n",
       "      <td>1921</td>\n",
       "      <td>3.500000</td>\n",
       "      <td>5</td>\n",
       "      <td>1</td>\n",
       "      <td>100.109</td>\n",
       "      <td>0.96700</td>\n",
       "      <td>0.275</td>\n",
       "      <td>0.309</td>\n",
       "      <td>0.000028</td>\n",
       "      <td>0.3810</td>\n",
       "      <td>...</td>\n",
       "      <td>0.0</td>\n",
       "      <td>0.0</td>\n",
       "      <td>0.5</td>\n",
       "      <td>0.0</td>\n",
       "      <td>0.0</td>\n",
       "      <td>0.0</td>\n",
       "      <td>0.0</td>\n",
       "      <td>0.0</td>\n",
       "      <td>0.0</td>\n",
       "      <td>0</td>\n",
       "    </tr>\n",
       "    <tr>\n",
       "      <th>4</th>\n",
       "      <td>1921</td>\n",
       "      <td>2.778217</td>\n",
       "      <td>3</td>\n",
       "      <td>1</td>\n",
       "      <td>101.665</td>\n",
       "      <td>0.95700</td>\n",
       "      <td>0.418</td>\n",
       "      <td>0.193</td>\n",
       "      <td>0.000002</td>\n",
       "      <td>0.2290</td>\n",
       "      <td>...</td>\n",
       "      <td>0.0</td>\n",
       "      <td>0.0</td>\n",
       "      <td>0.0</td>\n",
       "      <td>0.0</td>\n",
       "      <td>0.2</td>\n",
       "      <td>0.2</td>\n",
       "      <td>0.0</td>\n",
       "      <td>0.0</td>\n",
       "      <td>0.0</td>\n",
       "      <td>0</td>\n",
       "    </tr>\n",
       "    <tr>\n",
       "      <th>...</th>\n",
       "      <td>...</td>\n",
       "      <td>...</td>\n",
       "      <td>...</td>\n",
       "      <td>...</td>\n",
       "      <td>...</td>\n",
       "      <td>...</td>\n",
       "      <td>...</td>\n",
       "      <td>...</td>\n",
       "      <td>...</td>\n",
       "      <td>...</td>\n",
       "      <td>...</td>\n",
       "      <td>...</td>\n",
       "      <td>...</td>\n",
       "      <td>...</td>\n",
       "      <td>...</td>\n",
       "      <td>...</td>\n",
       "      <td>...</td>\n",
       "      <td>...</td>\n",
       "      <td>...</td>\n",
       "      <td>...</td>\n",
       "      <td>...</td>\n",
       "    </tr>\n",
       "    <tr>\n",
       "      <th>170648</th>\n",
       "      <td>2020</td>\n",
       "      <td>5.028567</td>\n",
       "      <td>7</td>\n",
       "      <td>1</td>\n",
       "      <td>105.029</td>\n",
       "      <td>0.08460</td>\n",
       "      <td>0.786</td>\n",
       "      <td>0.808</td>\n",
       "      <td>0.000289</td>\n",
       "      <td>0.0822</td>\n",
       "      <td>...</td>\n",
       "      <td>0.0</td>\n",
       "      <td>0.0</td>\n",
       "      <td>0.0</td>\n",
       "      <td>0.0</td>\n",
       "      <td>0.0</td>\n",
       "      <td>0.0</td>\n",
       "      <td>0.0</td>\n",
       "      <td>0.0</td>\n",
       "      <td>0.0</td>\n",
       "      <td>1</td>\n",
       "    </tr>\n",
       "    <tr>\n",
       "      <th>170649</th>\n",
       "      <td>2020</td>\n",
       "      <td>2.510900</td>\n",
       "      <td>7</td>\n",
       "      <td>1</td>\n",
       "      <td>137.936</td>\n",
       "      <td>0.20600</td>\n",
       "      <td>0.717</td>\n",
       "      <td>0.753</td>\n",
       "      <td>0.000000</td>\n",
       "      <td>0.1010</td>\n",
       "      <td>...</td>\n",
       "      <td>0.0</td>\n",
       "      <td>0.0</td>\n",
       "      <td>0.0</td>\n",
       "      <td>0.0</td>\n",
       "      <td>0.0</td>\n",
       "      <td>0.0</td>\n",
       "      <td>0.0</td>\n",
       "      <td>0.0</td>\n",
       "      <td>0.0</td>\n",
       "      <td>1</td>\n",
       "    </tr>\n",
       "    <tr>\n",
       "      <th>170650</th>\n",
       "      <td>2020</td>\n",
       "      <td>3.521333</td>\n",
       "      <td>4</td>\n",
       "      <td>0</td>\n",
       "      <td>91.688</td>\n",
       "      <td>0.10100</td>\n",
       "      <td>0.634</td>\n",
       "      <td>0.858</td>\n",
       "      <td>0.000009</td>\n",
       "      <td>0.2580</td>\n",
       "      <td>...</td>\n",
       "      <td>0.0</td>\n",
       "      <td>0.0</td>\n",
       "      <td>0.0</td>\n",
       "      <td>0.0</td>\n",
       "      <td>0.0</td>\n",
       "      <td>0.0</td>\n",
       "      <td>0.0</td>\n",
       "      <td>0.0</td>\n",
       "      <td>0.0</td>\n",
       "      <td>1</td>\n",
       "    </tr>\n",
       "    <tr>\n",
       "      <th>170651</th>\n",
       "      <td>2020</td>\n",
       "      <td>5.619117</td>\n",
       "      <td>2</td>\n",
       "      <td>1</td>\n",
       "      <td>75.055</td>\n",
       "      <td>0.00998</td>\n",
       "      <td>0.671</td>\n",
       "      <td>0.623</td>\n",
       "      <td>0.000008</td>\n",
       "      <td>0.6430</td>\n",
       "      <td>...</td>\n",
       "      <td>0.0</td>\n",
       "      <td>1.0</td>\n",
       "      <td>0.0</td>\n",
       "      <td>1.0</td>\n",
       "      <td>0.0</td>\n",
       "      <td>0.0</td>\n",
       "      <td>1.0</td>\n",
       "      <td>0.0</td>\n",
       "      <td>0.0</td>\n",
       "      <td>1</td>\n",
       "    </tr>\n",
       "    <tr>\n",
       "      <th>170652</th>\n",
       "      <td>2020</td>\n",
       "      <td>3.158450</td>\n",
       "      <td>7</td>\n",
       "      <td>1</td>\n",
       "      <td>94.991</td>\n",
       "      <td>0.13200</td>\n",
       "      <td>0.856</td>\n",
       "      <td>0.721</td>\n",
       "      <td>0.004710</td>\n",
       "      <td>0.1820</td>\n",
       "      <td>...</td>\n",
       "      <td>0.0</td>\n",
       "      <td>0.0</td>\n",
       "      <td>0.0</td>\n",
       "      <td>0.0</td>\n",
       "      <td>0.0</td>\n",
       "      <td>0.0</td>\n",
       "      <td>0.0</td>\n",
       "      <td>0.0</td>\n",
       "      <td>0.0</td>\n",
       "      <td>1</td>\n",
       "    </tr>\n",
       "  </tbody>\n",
       "</table>\n",
       "<p>170653 rows × 29 columns</p>\n",
       "</div>"
      ],
      "text/plain": [
       "        year   duration  key  mode    tempo  acousticness  danceability  \\\n",
       "0       1921  13.861117   10     1   80.954       0.98200         0.279   \n",
       "1       1921   3.008883    7     1   60.936       0.73200         0.819   \n",
       "2       1921   8.334367    3     1  110.339       0.96100         0.328   \n",
       "3       1921   3.500000    5     1  100.109       0.96700         0.275   \n",
       "4       1921   2.778217    3     1  101.665       0.95700         0.418   \n",
       "...      ...        ...  ...   ...      ...           ...           ...   \n",
       "170648  2020   5.028567    7     1  105.029       0.08460         0.786   \n",
       "170649  2020   2.510900    7     1  137.936       0.20600         0.717   \n",
       "170650  2020   3.521333    4     0   91.688       0.10100         0.634   \n",
       "170651  2020   5.619117    2     1   75.055       0.00998         0.671   \n",
       "170652  2020   3.158450    7     1   94.991       0.13200         0.856   \n",
       "\n",
       "        energy  instrumentalness  liveness  ...  anticipation  anger  disgust  \\\n",
       "0        0.211          0.878000    0.6650  ...           0.0    0.0      0.0   \n",
       "1        0.341          0.000000    0.1600  ...           0.0    0.0      0.0   \n",
       "2        0.166          0.913000    0.1010  ...           0.0    0.0      0.0   \n",
       "3        0.309          0.000028    0.3810  ...           0.0    0.0      0.5   \n",
       "4        0.193          0.000002    0.2290  ...           0.0    0.0      0.0   \n",
       "...        ...               ...       ...  ...           ...    ...      ...   \n",
       "170648   0.808          0.000289    0.0822  ...           0.0    0.0      0.0   \n",
       "170649   0.753          0.000000    0.1010  ...           0.0    0.0      0.0   \n",
       "170650   0.858          0.000009    0.2580  ...           0.0    0.0      0.0   \n",
       "170651   0.623          0.000008    0.6430  ...           0.0    1.0      0.0   \n",
       "170652   0.721          0.004710    0.1820  ...           0.0    0.0      0.0   \n",
       "\n",
       "        fear  joy  positive  sadness  surprise  trust  popularity  \n",
       "0        0.0  0.0       0.0      0.0       0.0    0.0           0  \n",
       "1        0.0  0.0       0.0      0.0       0.0    0.0           0  \n",
       "2        0.0  0.0       0.0      0.0       0.0    0.0           0  \n",
       "3        0.0  0.0       0.0      0.0       0.0    0.0           0  \n",
       "4        0.0  0.2       0.2      0.0       0.0    0.0           0  \n",
       "...      ...  ...       ...      ...       ...    ...         ...  \n",
       "170648   0.0  0.0       0.0      0.0       0.0    0.0           1  \n",
       "170649   0.0  0.0       0.0      0.0       0.0    0.0           1  \n",
       "170650   0.0  0.0       0.0      0.0       0.0    0.0           1  \n",
       "170651   1.0  0.0       0.0      1.0       0.0    0.0           1  \n",
       "170652   0.0  0.0       0.0      0.0       0.0    0.0           1  \n",
       "\n",
       "[170653 rows x 29 columns]"
      ]
     },
     "execution_count": 3,
     "metadata": {},
     "output_type": "execute_result"
    }
   ],
   "source": [
    "del songs['Unnamed: 0']\n",
    "del songs['id']\n",
    "del songs['release_date']\n",
    "del songs['artists']\n",
    "del songs['name']\n",
    "del songs['emotion']\n",
    "songs['language'] = np.where(songs['language']=='English',1,0)\n",
    "songs['popularity'] = np.where(songs['popularity']>=33, 1, 0)\n",
    "songs['duration_ms'] = songs['duration_ms']/60000\n",
    "songs.rename(columns={'duration_ms':'duration'})"
   ]
  },
  {
   "cell_type": "markdown",
   "metadata": {},
   "source": [
    "## Neural Network"
   ]
  },
  {
   "cell_type": "code",
   "execution_count": 4,
   "metadata": {},
   "outputs": [],
   "source": [
    "import warnings\n",
    "warnings.filterwarnings('ignore')"
   ]
  },
  {
   "cell_type": "code",
   "execution_count": 5,
   "metadata": {},
   "outputs": [],
   "source": [
    "X = songs[songs.columns[0:28]].values\n",
    "Y = songs[songs.columns[28]].values"
   ]
  },
  {
   "cell_type": "code",
   "execution_count": 6,
   "metadata": {},
   "outputs": [],
   "source": [
    "from sklearn.neural_network import MLPClassifier"
   ]
  },
  {
   "cell_type": "code",
   "execution_count": 7,
   "metadata": {},
   "outputs": [],
   "source": [
    "from sklearn.model_selection import train_test_split\n",
    "xtrain, xtest, ytrain, ytest = train_test_split(X, Y, test_size = 0.20, random_state = 0)"
   ]
  },
  {
   "cell_type": "code",
   "execution_count": 8,
   "metadata": {},
   "outputs": [
    {
     "name": "stdout",
     "output_type": "stream",
     "text": [
      "0.7646388381924444\n",
      "{'activation': 'relu', 'hidden_layer_sizes': (60,), 'learning_rate': 'adaptive', 'max_iter': 1000, 'solver': 'adam'}\n"
     ]
    }
   ],
   "source": [
    "from sklearn.model_selection import GridSearchCV\n",
    "parameters = {\n",
    "    'learning_rate':[\"constant\", \"invscaling\", \"adaptive\"],\n",
    "    'solver': ('sgd','lbfgs','adam'),\n",
    "    'activation': ('logistic','tanh','relu'),\n",
    "    'hidden_layer_sizes': ((30,),(60,),(80,)),\n",
    "    'max_iter': (500, 1000)\n",
    "}\n",
    "gs = GridSearchCV(estimator = MLPClassifier(), param_grid=parameters,cv=5)\n",
    "gs.fit(X, Y)\n",
    "print(gs.best_score_)\n",
    "print(gs.best_params_)"
   ]
  },
  {
   "cell_type": "code",
   "execution_count": 9,
   "metadata": {},
   "outputs": [],
   "source": [
    "clf = MLPClassifier(solver='adam', hidden_layer_sizes=(60,), max_iter = 1000, \n",
    "                    activation='relu',\n",
    "                    learning_rate='adaptive')\n",
    "clf.fit(xtrain,ytrain)\n",
    "predictions = clf.predict(xtest)\n",
    "actuals = ytest"
   ]
  },
  {
   "cell_type": "code",
   "execution_count": 25,
   "metadata": {},
   "outputs": [],
   "source": [
    "p_1 = clf.predict(xtrain)\n",
    "p_2 = clf.predict(xtest)"
   ]
  },
  {
   "cell_type": "code",
   "execution_count": 13,
   "metadata": {},
   "outputs": [
    {
     "name": "stdout",
     "output_type": "stream",
     "text": [
      "8959 16095 1636 7441\n",
      "73.40540857285166\n"
     ]
    }
   ],
   "source": [
    "tp=tn=fp=fn=0\n",
    "for i in range(len(actuals)):\n",
    "    a_class=p_class=0\n",
    "    if int(actuals[i]== 0):\n",
    "        a_class = 1 \n",
    "    if int(predictions[i]== 0):\n",
    "        p_class = 1\n",
    "    if a_class == 1 and p_class == 1:\n",
    "        tp +=1\n",
    "    elif a_class == 1 and p_class == 0:\n",
    "        fn +=1\n",
    "    elif a_class == 0 and p_class == 0:\n",
    "        tn +=1\n",
    "    elif a_class == 0 and p_class == 1:\n",
    "        fp +=1\n",
    "print(tp,tn,fp,fn)\n",
    "nn_accuracy = ((tp+tn)*100/(tp+tn+fp+fn))\n",
    "print(nn_accuracy)"
   ]
  },
  {
   "cell_type": "code",
   "execution_count": 26,
   "metadata": {},
   "outputs": [
    {
     "data": {
      "text/plain": [
       "0.5156994417986929"
      ]
     },
     "execution_count": 26,
     "metadata": {},
     "output_type": "execute_result"
    }
   ],
   "source": [
    "from sklearn.metrics import mean_squared_error\n",
    "mean_squared_error(ytest, p_2,squared=False)"
   ]
  },
  {
   "cell_type": "code",
   "execution_count": 27,
   "metadata": {},
   "outputs": [
    {
     "data": {
      "text/plain": [
       "0.5137322583528244"
      ]
     },
     "execution_count": 27,
     "metadata": {},
     "output_type": "execute_result"
    }
   ],
   "source": [
    "mean_squared_error(ytrain, p_1,squared=False)"
   ]
  },
  {
   "cell_type": "code",
   "execution_count": 28,
   "metadata": {},
   "outputs": [
    {
     "data": {
      "text/plain": [
       "-0.06540387099347833"
      ]
     },
     "execution_count": 28,
     "metadata": {},
     "output_type": "execute_result"
    }
   ],
   "source": [
    "from sklearn.metrics import r2_score\n",
    "r2_score(ytest, p_2)"
   ]
  },
  {
   "cell_type": "code",
   "execution_count": 29,
   "metadata": {},
   "outputs": [
    {
     "data": {
      "text/plain": [
       "-0.056477043994253906"
      ]
     },
     "execution_count": 29,
     "metadata": {},
     "output_type": "execute_result"
    }
   ],
   "source": [
    "r2_score(ytrain, p_1)"
   ]
  },
  {
   "cell_type": "code",
   "execution_count": null,
   "metadata": {},
   "outputs": [],
   "source": []
  }
 ],
 "metadata": {
  "kernelspec": {
   "display_name": "Python 3",
   "language": "python",
   "name": "python3"
  },
  "language_info": {
   "codemirror_mode": {
    "name": "ipython",
    "version": 3
   },
   "file_extension": ".py",
   "mimetype": "text/x-python",
   "name": "python",
   "nbconvert_exporter": "python",
   "pygments_lexer": "ipython3",
   "version": "3.8.3"
  }
 },
 "nbformat": 4,
 "nbformat_minor": 4
}
